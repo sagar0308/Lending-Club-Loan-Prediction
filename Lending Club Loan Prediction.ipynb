{
 "cells": [
  {
   "cell_type": "code",
   "execution_count": 1,
   "metadata": {},
   "outputs": [],
   "source": [
    "import numpy as np\n",
    "import pandas as pd\n",
    "from sklearn.model_selection import train_test_split\n",
    "from sklearn.preprocessing import LabelEncoder\n",
    "from sklearn.ensemble import RandomForestClassifier\n",
    "from xgboost import XGBClassifier\n",
    "from sklearn.metrics import f1_score,precision_score,recall_score,roc_auc_score,confusion_matrix,classification_report\n",
    "from sklearn import metrics\n",
    "import matplotlib.pyplot as plt"
   ]
  },
  {
   "cell_type": "code",
   "execution_count": 2,
   "metadata": {},
   "outputs": [
    {
     "name": "stderr",
     "output_type": "stream",
     "text": [
      "C:\\Users\\Sagar Mestry\\Miniconda3\\lib\\site-packages\\IPython\\core\\interactiveshell.py:3058: DtypeWarning: Columns (0,47) have mixed types.Specify dtype option on import or set low_memory=False.\n",
      "  interactivity=interactivity, compiler=compiler, result=result)\n"
     ]
    },
    {
     "data": {
      "text/html": [
       "<div>\n",
       "<style scoped>\n",
       "    .dataframe tbody tr th:only-of-type {\n",
       "        vertical-align: middle;\n",
       "    }\n",
       "\n",
       "    .dataframe tbody tr th {\n",
       "        vertical-align: top;\n",
       "    }\n",
       "\n",
       "    .dataframe thead th {\n",
       "        text-align: right;\n",
       "    }\n",
       "</style>\n",
       "<table border=\"1\" class=\"dataframe\">\n",
       "  <thead>\n",
       "    <tr style=\"text-align: right;\">\n",
       "      <th></th>\n",
       "      <th>id</th>\n",
       "      <th>member_id</th>\n",
       "      <th>loan_amnt</th>\n",
       "      <th>funded_amnt</th>\n",
       "      <th>funded_amnt_inv</th>\n",
       "      <th>term</th>\n",
       "      <th>int_rate</th>\n",
       "      <th>installment</th>\n",
       "      <th>grade</th>\n",
       "      <th>sub_grade</th>\n",
       "      <th>...</th>\n",
       "      <th>total_bal_il</th>\n",
       "      <th>il_util</th>\n",
       "      <th>open_rv_12m</th>\n",
       "      <th>open_rv_24m</th>\n",
       "      <th>max_bal_bc</th>\n",
       "      <th>all_util</th>\n",
       "      <th>total_rev_hi_lim</th>\n",
       "      <th>inq_fi</th>\n",
       "      <th>total_cu_tl</th>\n",
       "      <th>inq_last_12m</th>\n",
       "    </tr>\n",
       "  </thead>\n",
       "  <tbody>\n",
       "    <tr>\n",
       "      <th>0</th>\n",
       "      <td>NaN</td>\n",
       "      <td>NaN</td>\n",
       "      <td>8000.0</td>\n",
       "      <td>8000.0</td>\n",
       "      <td>8000.0</td>\n",
       "      <td>36 months</td>\n",
       "      <td>10.99%</td>\n",
       "      <td>261.88</td>\n",
       "      <td>B</td>\n",
       "      <td>B2</td>\n",
       "      <td>...</td>\n",
       "      <td>NaN</td>\n",
       "      <td>NaN</td>\n",
       "      <td>NaN</td>\n",
       "      <td>NaN</td>\n",
       "      <td>NaN</td>\n",
       "      <td>NaN</td>\n",
       "      <td>20800.0</td>\n",
       "      <td>NaN</td>\n",
       "      <td>NaN</td>\n",
       "      <td>NaN</td>\n",
       "    </tr>\n",
       "    <tr>\n",
       "      <th>1</th>\n",
       "      <td>NaN</td>\n",
       "      <td>NaN</td>\n",
       "      <td>20800.0</td>\n",
       "      <td>20800.0</td>\n",
       "      <td>20800.0</td>\n",
       "      <td>36 months</td>\n",
       "      <td>13.53%</td>\n",
       "      <td>706.16</td>\n",
       "      <td>B</td>\n",
       "      <td>B5</td>\n",
       "      <td>...</td>\n",
       "      <td>NaN</td>\n",
       "      <td>NaN</td>\n",
       "      <td>NaN</td>\n",
       "      <td>NaN</td>\n",
       "      <td>NaN</td>\n",
       "      <td>NaN</td>\n",
       "      <td>43100.0</td>\n",
       "      <td>NaN</td>\n",
       "      <td>NaN</td>\n",
       "      <td>NaN</td>\n",
       "    </tr>\n",
       "    <tr>\n",
       "      <th>2</th>\n",
       "      <td>NaN</td>\n",
       "      <td>NaN</td>\n",
       "      <td>10000.0</td>\n",
       "      <td>10000.0</td>\n",
       "      <td>10000.0</td>\n",
       "      <td>36 months</td>\n",
       "      <td>9.67%</td>\n",
       "      <td>321.13</td>\n",
       "      <td>B</td>\n",
       "      <td>B1</td>\n",
       "      <td>...</td>\n",
       "      <td>NaN</td>\n",
       "      <td>NaN</td>\n",
       "      <td>NaN</td>\n",
       "      <td>NaN</td>\n",
       "      <td>NaN</td>\n",
       "      <td>NaN</td>\n",
       "      <td>22300.0</td>\n",
       "      <td>NaN</td>\n",
       "      <td>NaN</td>\n",
       "      <td>NaN</td>\n",
       "    </tr>\n",
       "    <tr>\n",
       "      <th>3</th>\n",
       "      <td>NaN</td>\n",
       "      <td>NaN</td>\n",
       "      <td>11500.0</td>\n",
       "      <td>11500.0</td>\n",
       "      <td>11500.0</td>\n",
       "      <td>60 months</td>\n",
       "      <td>22.90%</td>\n",
       "      <td>323.54</td>\n",
       "      <td>E</td>\n",
       "      <td>E4</td>\n",
       "      <td>...</td>\n",
       "      <td>NaN</td>\n",
       "      <td>NaN</td>\n",
       "      <td>NaN</td>\n",
       "      <td>NaN</td>\n",
       "      <td>NaN</td>\n",
       "      <td>NaN</td>\n",
       "      <td>14100.0</td>\n",
       "      <td>NaN</td>\n",
       "      <td>NaN</td>\n",
       "      <td>NaN</td>\n",
       "    </tr>\n",
       "    <tr>\n",
       "      <th>4</th>\n",
       "      <td>NaN</td>\n",
       "      <td>NaN</td>\n",
       "      <td>15000.0</td>\n",
       "      <td>15000.0</td>\n",
       "      <td>15000.0</td>\n",
       "      <td>36 months</td>\n",
       "      <td>8.90%</td>\n",
       "      <td>476.30</td>\n",
       "      <td>A</td>\n",
       "      <td>A5</td>\n",
       "      <td>...</td>\n",
       "      <td>NaN</td>\n",
       "      <td>NaN</td>\n",
       "      <td>NaN</td>\n",
       "      <td>NaN</td>\n",
       "      <td>NaN</td>\n",
       "      <td>NaN</td>\n",
       "      <td>15400.0</td>\n",
       "      <td>NaN</td>\n",
       "      <td>NaN</td>\n",
       "      <td>NaN</td>\n",
       "    </tr>\n",
       "  </tbody>\n",
       "</table>\n",
       "<p>5 rows × 73 columns</p>\n",
       "</div>"
      ],
      "text/plain": [
       "    id  member_id  loan_amnt  funded_amnt  funded_amnt_inv        term  \\\n",
       "0  NaN        NaN     8000.0       8000.0           8000.0   36 months   \n",
       "1  NaN        NaN    20800.0      20800.0          20800.0   36 months   \n",
       "2  NaN        NaN    10000.0      10000.0          10000.0   36 months   \n",
       "3  NaN        NaN    11500.0      11500.0          11500.0   60 months   \n",
       "4  NaN        NaN    15000.0      15000.0          15000.0   36 months   \n",
       "\n",
       "  int_rate  installment grade sub_grade  ... total_bal_il il_util open_rv_12m  \\\n",
       "0   10.99%       261.88     B        B2  ...          NaN     NaN         NaN   \n",
       "1   13.53%       706.16     B        B5  ...          NaN     NaN         NaN   \n",
       "2    9.67%       321.13     B        B1  ...          NaN     NaN         NaN   \n",
       "3   22.90%       323.54     E        E4  ...          NaN     NaN         NaN   \n",
       "4    8.90%       476.30     A        A5  ...          NaN     NaN         NaN   \n",
       "\n",
       "   open_rv_24m max_bal_bc all_util total_rev_hi_lim inq_fi  total_cu_tl  \\\n",
       "0          NaN        NaN      NaN          20800.0    NaN          NaN   \n",
       "1          NaN        NaN      NaN          43100.0    NaN          NaN   \n",
       "2          NaN        NaN      NaN          22300.0    NaN          NaN   \n",
       "3          NaN        NaN      NaN          14100.0    NaN          NaN   \n",
       "4          NaN        NaN      NaN          15400.0    NaN          NaN   \n",
       "\n",
       "  inq_last_12m  \n",
       "0          NaN  \n",
       "1          NaN  \n",
       "2          NaN  \n",
       "3          NaN  \n",
       "4          NaN  \n",
       "\n",
       "[5 rows x 73 columns]"
      ]
     },
     "execution_count": 2,
     "metadata": {},
     "output_type": "execute_result"
    }
   ],
   "source": [
    "df = pd.read_csv(r'C:\\JupyterNotebook\\DataSet\\lending_final.csv')\n",
    "df.head()"
   ]
  },
  {
   "cell_type": "code",
   "execution_count": 3,
   "metadata": {},
   "outputs": [
    {
     "data": {
      "text/plain": [
       "(188183, 73)"
      ]
     },
     "execution_count": 3,
     "metadata": {},
     "output_type": "execute_result"
    }
   ],
   "source": [
    "df.shape"
   ]
  },
  {
   "cell_type": "code",
   "execution_count": 4,
   "metadata": {},
   "outputs": [
    {
     "name": "stdout",
     "output_type": "stream",
     "text": [
      "<class 'pandas.core.frame.DataFrame'>\n",
      "RangeIndex: 188183 entries, 0 to 188182\n",
      "Data columns (total 73 columns):\n",
      " #   Column                       Non-Null Count   Dtype  \n",
      "---  ------                       --------------   -----  \n",
      " 0   id                           2 non-null       object \n",
      " 1   member_id                    0 non-null       float64\n",
      " 2   loan_amnt                    188181 non-null  float64\n",
      " 3   funded_amnt                  188181 non-null  float64\n",
      " 4   funded_amnt_inv              188181 non-null  float64\n",
      " 5   term                         188181 non-null  object \n",
      " 6   int_rate                     188181 non-null  object \n",
      " 7   installment                  188181 non-null  float64\n",
      " 8   grade                        188181 non-null  object \n",
      " 9   sub_grade                    188181 non-null  object \n",
      " 10  emp_title                    176444 non-null  object \n",
      " 11  emp_length                   180294 non-null  object \n",
      " 12  home_ownership               188181 non-null  object \n",
      " 13  annual_inc                   188181 non-null  float64\n",
      " 14  verification_status          188181 non-null  object \n",
      " 15  issue_d                      188181 non-null  object \n",
      " 16  loan_status                  188181 non-null  object \n",
      " 17  pymnt_plan                   188181 non-null  object \n",
      " 18  url                          0 non-null       float64\n",
      " 19  desc                         81478 non-null   object \n",
      " 20  purpose                      188181 non-null  object \n",
      " 21  title                        188174 non-null  object \n",
      " 22  zip_code                     188181 non-null  object \n",
      " 23  addr_state                   188181 non-null  object \n",
      " 24  dti                          188181 non-null  float64\n",
      " 25  delinq_2yrs                  188181 non-null  float64\n",
      " 26  earliest_cr_line             188181 non-null  object \n",
      " 27  inq_last_6mths               188181 non-null  float64\n",
      " 28  mths_since_last_delinq       80608 non-null   float64\n",
      " 29  mths_since_last_record       17474 non-null   float64\n",
      " 30  open_acc                     188181 non-null  float64\n",
      " 31  pub_rec                      188181 non-null  float64\n",
      " 32  revol_bal                    188181 non-null  float64\n",
      " 33  revol_util                   188056 non-null  object \n",
      " 34  total_acc                    188181 non-null  float64\n",
      " 35  initial_list_status          188181 non-null  object \n",
      " 36  out_prncp                    188181 non-null  float64\n",
      " 37  out_prncp_inv                188181 non-null  float64\n",
      " 38  total_pymnt                  188181 non-null  float64\n",
      " 39  total_pymnt_inv              188181 non-null  float64\n",
      " 40  total_rec_prncp              188181 non-null  float64\n",
      " 41  total_rec_int                188181 non-null  float64\n",
      " 42  total_rec_late_fee           188181 non-null  float64\n",
      " 43  recoveries                   188181 non-null  float64\n",
      " 44  collection_recovery_fee      188181 non-null  float64\n",
      " 45  last_pymnt_d                 188031 non-null  object \n",
      " 46  last_pymnt_amnt              188181 non-null  float64\n",
      " 47  next_pymnt_d                 820 non-null     object \n",
      " 48  last_credit_pull_d           188171 non-null  object \n",
      " 49  collections_12_mths_ex_med   188181 non-null  float64\n",
      " 50  mths_since_last_major_derog  32516 non-null   float64\n",
      " 51  policy_code                  188181 non-null  float64\n",
      " 52  application_type             188181 non-null  object \n",
      " 53  annual_inc_joint             0 non-null       float64\n",
      " 54  dti_joint                    0 non-null       float64\n",
      " 55  verification_status_joint    0 non-null       float64\n",
      " 56  acc_now_delinq               188181 non-null  float64\n",
      " 57  tot_coll_amt                 160440 non-null  float64\n",
      " 58  tot_cur_bal                  160440 non-null  float64\n",
      " 59  open_acc_6m                  0 non-null       float64\n",
      " 60  open_il_12m                  0 non-null       float64\n",
      " 61  open_il_24m                  0 non-null       float64\n",
      " 62  mths_since_rcnt_il           0 non-null       float64\n",
      " 63  total_bal_il                 0 non-null       float64\n",
      " 64  il_util                      0 non-null       float64\n",
      " 65  open_rv_12m                  0 non-null       float64\n",
      " 66  open_rv_24m                  0 non-null       float64\n",
      " 67  max_bal_bc                   0 non-null       float64\n",
      " 68  all_util                     0 non-null       float64\n",
      " 69  total_rev_hi_lim             160440 non-null  float64\n",
      " 70  inq_fi                       0 non-null       float64\n",
      " 71  total_cu_tl                  0 non-null       float64\n",
      " 72  inq_last_12m                 0 non-null       float64\n",
      "dtypes: float64(49), object(24)\n",
      "memory usage: 104.8+ MB\n"
     ]
    }
   ],
   "source": [
    "df.info()"
   ]
  },
  {
   "cell_type": "code",
   "execution_count": 5,
   "metadata": {},
   "outputs": [],
   "source": [
    "X = df.drop('loan_status',1)\n",
    "y = df['loan_status']"
   ]
  },
  {
   "cell_type": "code",
   "execution_count": 6,
   "metadata": {},
   "outputs": [],
   "source": [
    "X_train,X_test,y_train,y_test = train_test_split(X,y, test_size = 0.25 , random_state = 4)"
   ]
  },
  {
   "cell_type": "code",
   "execution_count": 7,
   "metadata": {},
   "outputs": [],
   "source": [
    "col = df.isnull().sum()\n",
    "col_drop = col[col>0.25*len(df)].index.tolist()\n",
    "for x in df:\n",
    "    if df[x].nunique() == 1 :\n",
    "        col_drop.append(x)"
   ]
  },
  {
   "cell_type": "code",
   "execution_count": 8,
   "metadata": {},
   "outputs": [
    {
     "name": "stderr",
     "output_type": "stream",
     "text": [
      "C:\\Users\\Sagar Mestry\\Miniconda3\\lib\\site-packages\\pandas\\core\\frame.py:3997: SettingWithCopyWarning: \n",
      "A value is trying to be set on a copy of a slice from a DataFrame\n",
      "\n",
      "See the caveats in the documentation: https://pandas.pydata.org/pandas-docs/stable/user_guide/indexing.html#returning-a-view-versus-a-copy\n",
      "  errors=errors,\n"
     ]
    }
   ],
   "source": [
    "X_train.drop(columns=col_drop,axis=1,inplace=True)\n",
    "X_test.drop(columns=col_drop,axis=1,inplace=True)"
   ]
  },
  {
   "cell_type": "code",
   "execution_count": 9,
   "metadata": {},
   "outputs": [],
   "source": [
    "y_train = np.where((y_train == 'Fully Paid') |(y_train == 'Current'), 0, 1)\n",
    "y_test = np.where((y_test == 'Fully Paid') |(y_test == 'Current'), 0, 1)"
   ]
  },
  {
   "cell_type": "code",
   "execution_count": 10,
   "metadata": {},
   "outputs": [],
   "source": [
    "# categorical and numerical variables\n",
    "cat = X_train.select_dtypes(include = 'O').columns.tolist()\n",
    "num = X_train.select_dtypes(exclude = 'O').columns.tolist()"
   ]
  },
  {
   "cell_type": "code",
   "execution_count": 11,
   "metadata": {},
   "outputs": [
    {
     "name": "stderr",
     "output_type": "stream",
     "text": [
      "C:\\Users\\Sagar Mestry\\Miniconda3\\lib\\site-packages\\pandas\\core\\generic.py:6245: SettingWithCopyWarning: \n",
      "A value is trying to be set on a copy of a slice from a DataFrame\n",
      "\n",
      "See the caveats in the documentation: https://pandas.pydata.org/pandas-docs/stable/user_guide/indexing.html#returning-a-view-versus-a-copy\n",
      "  self._update_inplace(new_data)\n"
     ]
    }
   ],
   "source": [
    "# Filling missing values\n",
    "\n",
    "# Train Data\n",
    "\n",
    "for x in cat:\n",
    "    mode = X_train[x].mode()[0]\n",
    "    X_train[x].fillna(mode, inplace = True)\n",
    "\n",
    "for x in num:\n",
    "    mean = X_train[x].mean()\n",
    "    X_train[x].fillna(mean,inplace = True)"
   ]
  },
  {
   "cell_type": "code",
   "execution_count": 12,
   "metadata": {},
   "outputs": [],
   "source": [
    "# Test Data\n",
    "for x in cat:\n",
    "    mode = X_train[x].mode()[0]\n",
    "    X_test[x].fillna(mode,inplace = True)\n",
    "\n",
    "for x in num:\n",
    "    mean = X_train[x].mean()\n",
    "    X_test[x].fillna(mean,inplace = True)"
   ]
  },
  {
   "cell_type": "code",
   "execution_count": 13,
   "metadata": {},
   "outputs": [
    {
     "name": "stderr",
     "output_type": "stream",
     "text": [
      "C:\\Users\\Sagar Mestry\\Miniconda3\\lib\\site-packages\\ipykernel_launcher.py:6: SettingWithCopyWarning: \n",
      "A value is trying to be set on a copy of a slice from a DataFrame.\n",
      "Try using .loc[row_indexer,col_indexer] = value instead\n",
      "\n",
      "See the caveats in the documentation: https://pandas.pydata.org/pandas-docs/stable/user_guide/indexing.html#returning-a-view-versus-a-copy\n",
      "  \n",
      "C:\\Users\\Sagar Mestry\\Miniconda3\\lib\\site-packages\\ipykernel_launcher.py:7: SettingWithCopyWarning: \n",
      "A value is trying to be set on a copy of a slice from a DataFrame.\n",
      "Try using .loc[row_indexer,col_indexer] = value instead\n",
      "\n",
      "See the caveats in the documentation: https://pandas.pydata.org/pandas-docs/stable/user_guide/indexing.html#returning-a-view-versus-a-copy\n",
      "  import sys\n"
     ]
    }
   ],
   "source": [
    "# Label encoding\n",
    "\n",
    "le = LabelEncoder()\n",
    "for x in cat:\n",
    "    \n",
    "    X_train[x] = le.fit_transform(X_train[x])\n",
    "    X_test[x] = le.fit_transform(X_test[x])"
   ]
  },
  {
   "cell_type": "code",
   "execution_count": 14,
   "metadata": {},
   "outputs": [],
   "source": [
    "rf = RandomForestClassifier(random_state =42,max_depth=2,min_samples_leaf=5000)\n",
    "rf.fit(X_train,y_train)\n",
    "y_pred = rf.predict(X_test)"
   ]
  },
  {
   "cell_type": "code",
   "execution_count": 15,
   "metadata": {},
   "outputs": [
    {
     "name": "stdout",
     "output_type": "stream",
     "text": [
      "Confusion_matrix\n",
      " [[39705     0]\n",
      " [ 4221  3120]]\n",
      "Classification_report\n",
      "              precision    recall  f1-score   support\n",
      "\n",
      "           0       0.90      1.00      0.95     39705\n",
      "           1       1.00      0.43      0.60      7341\n",
      "\n",
      "    accuracy                           0.91     47046\n",
      "   macro avg       0.95      0.71      0.77     47046\n",
      "weighted avg       0.92      0.91      0.89     47046\n",
      "\n"
     ]
    }
   ],
   "source": [
    "f1 = f1_score(y_test, y_pred)\n",
    "precision = precision_score(y_test, y_pred)\n",
    "recall = recall_score(y_test, y_pred)\n",
    "roc_auc = roc_auc_score(y_test, y_pred)\n",
    "print ('Confusion_matrix' + '\\n', confusion_matrix(y_test, y_pred))\n",
    "print ('Classification_report' + '\\n' + classification_report(y_test,y_pred))"
   ]
  },
  {
   "cell_type": "code",
   "execution_count": 16,
   "metadata": {},
   "outputs": [
    {
     "data": {
      "image/png": "[encoded data removed]",
      "text/plain": [
       "<Figure size 432x288 with 1 Axes>"
      ]
     },
     "metadata": {
      "needs_background": "light"
     },
     "output_type": "display_data"
    }
   ],
   "source": [
    "y_pred_proba = rf.predict_proba(X_test)[:,1]\n",
    "fpr, tpr, _ = metrics.roc_curve(y_test,  y_pred_proba)\n",
    "auc = metrics.roc_auc_score(y_test, y_pred_proba)\n",
    "plt.plot(fpr,tpr,label=\"RF model, auc=\"+str(auc))\n",
    "plt.xlabel('False Positive Rate')\n",
    "plt.ylabel('True Positive Rate')\n",
    "plt.legend(loc=4)\n",
    "plt.show()"
   ]
  },
  {
   "cell_type": "code",
   "execution_count": 17,
   "metadata": {},
   "outputs": [],
   "source": [
    "xgb = XGBClassifier(learning_rate = 0.0001)\n",
    "xgb.fit(X_train,y_train)\n",
    "y_pred = xgb.predict(X_test)"
   ]
  },
  {
   "cell_type": "code",
   "execution_count": 18,
   "metadata": {},
   "outputs": [
    {
     "name": "stdout",
     "output_type": "stream",
     "text": [
      "Confusion_matrix\n",
      " [[39705     0]\n",
      " [  250  7091]]\n",
      "Classification_report\n",
      "              precision    recall  f1-score   support\n",
      "\n",
      "           0       0.99      1.00      1.00     39705\n",
      "           1       1.00      0.97      0.98      7341\n",
      "\n",
      "    accuracy                           0.99     47046\n",
      "   macro avg       1.00      0.98      0.99     47046\n",
      "weighted avg       0.99      0.99      0.99     47046\n",
      "\n"
     ]
    }
   ],
   "source": [
    "f1 = f1_score(y_test, y_pred)\n",
    "precision = precision_score(y_test, y_pred)\n",
    "recall = recall_score(y_test, y_pred)\n",
    "roc_auc = roc_auc_score(y_test, y_pred)\n",
    "print ('Confusion_matrix' + '\\n', confusion_matrix(y_test, y_pred))\n",
    "print ('Classification_report' + '\\n' + classification_report(y_test,y_pred))"
   ]
  },
  {
   "cell_type": "code",
   "execution_count": 19,
   "metadata": {},
   "outputs": [
    {
     "data": {
      "image/png": "[encoded data removed]",
      "text/plain": [
       "<Figure size 432x288 with 1 Axes>"
      ]
     },
     "metadata": {
      "needs_background": "light"
     },
     "output_type": "display_data"
    }
   ],
   "source": [
    "y_pred_proba = xgb.predict_proba(X_test)[:,1]\n",
    "fpr, tpr, _ = metrics.roc_curve(y_test,  y_pred_proba)\n",
    "auc = metrics.roc_auc_score(y_test, y_pred_proba)\n",
    "plt.plot(fpr,tpr,label=\"XGBoost model, auc=\"+str(auc))\n",
    "plt.xlabel('False Positive Rate')\n",
    "plt.ylabel('True Positive Rate')\n",
    "plt.legend(loc=4)\n",
    "plt.show()"
   ]
  },
  {
   "cell_type": "code",
   "execution_count": null,
   "metadata": {},
   "outputs": [],
   "source": []
  }
 ],
 "metadata": {
  "kernelspec": {
   "display_name": "Python 3",
   "language": "python",
   "name": "python3"
  },
  "language_info": {
   "codemirror_mode": {
    "name": "ipython",
    "version": 3
   },
   "file_extension": ".py",
   "mimetype": "text/x-python",
   "name": "python",
   "nbconvert_exporter": "python",
   "pygments_lexer": "ipython3",
   "version": "3.7.3"
  }
 },
 "nbformat": 4,
 "nbformat_minor": 2
}
